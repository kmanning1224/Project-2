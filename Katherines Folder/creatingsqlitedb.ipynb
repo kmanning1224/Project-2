{
 "cells": [
  {
   "cell_type": "code",
   "execution_count": 1,
   "metadata": {},
   "outputs": [],
   "source": [
    "import pandas as pd\n",
    "import numpy as np\n"
   ]
  },
  {
   "cell_type": "code",
   "execution_count": 2,
   "metadata": {},
   "outputs": [],
   "source": [
    "file = pd.read_csv(\"Data/Alltotals_global_dataset_2020.csv\")"
   ]
  },
  {
   "cell_type": "code",
   "execution_count": 3,
   "metadata": {},
   "outputs": [],
   "source": [
    "df = pd.DataFrame(file)"
   ]
  },
  {
   "cell_type": "code",
   "execution_count": 15,
   "metadata": {},
   "outputs": [],
   "source": [
    "df2 = df.reset_index(drop = True)"
   ]
  },
  {
   "cell_type": "code",
   "execution_count": 16,
   "metadata": {},
   "outputs": [],
   "source": [
    "from sqlalchemy import create_engine"
   ]
  },
  {
   "cell_type": "code",
   "execution_count": 23,
   "metadata": {},
   "outputs": [
    {
     "name": "stdout",
     "output_type": "stream",
     "text": [
      "2020-10-04 17:10:49,196 INFO sqlalchemy.engine.base.Engine SELECT CAST('test plain returns' AS VARCHAR(60)) AS anon_1\n",
      "2020-10-04 17:10:49,196 INFO sqlalchemy.engine.base.Engine ()\n",
      "2020-10-04 17:10:49,197 INFO sqlalchemy.engine.base.Engine SELECT CAST('test unicode returns' AS VARCHAR(60)) AS anon_1\n",
      "2020-10-04 17:10:49,197 INFO sqlalchemy.engine.base.Engine ()\n"
     ]
    }
   ],
   "source": [
    "engine = create_engine('sqlite:///trafficking2.db', echo=True)\n",
    "sqlite_connection = engine.connect()"
   ]
  },
  {
   "cell_type": "code",
   "execution_count": 24,
   "metadata": {},
   "outputs": [
    {
     "name": "stdout",
     "output_type": "stream",
     "text": [
      "2020-10-04 17:10:50,928 INFO sqlalchemy.engine.base.Engine PRAGMA main.table_info(\"trafficking_data\")\n",
      "2020-10-04 17:10:50,928 INFO sqlalchemy.engine.base.Engine ()\n",
      "2020-10-04 17:10:50,929 INFO sqlalchemy.engine.base.Engine PRAGMA temp.table_info(\"trafficking_data\")\n",
      "2020-10-04 17:10:50,930 INFO sqlalchemy.engine.base.Engine ()\n",
      "2020-10-04 17:10:50,933 INFO sqlalchemy.engine.base.Engine \n",
      "CREATE TABLE trafficking_data (\n",
      "\tlevel_0 BIGINT, \n",
      "\t\"index\" BIGINT, \n",
      "\t\"yearOfRegistration\" BIGINT, \n",
      "\t\"ageBroad\" TEXT, \n",
      "\tgender TEXT, \n",
      "\t\"majorityStatusAtExploit\" TEXT, \n",
      "\t\"meansOfControlTakesEarnings\" BIGINT, \n",
      "\t\"meansOfControlThreats\" BIGINT, \n",
      "\t\"meansOfControlPsychologicalAbuse\" BIGINT, \n",
      "\t\"meansOfControlPhysicalAbuse\" BIGINT, \n",
      "\t\"meansOfControlSexualAbuse\" BIGINT, \n",
      "\t\"meansOfControlPsychoactiveSubstances\" BIGINT, \n",
      "\t\"meansOfControlRestrictsMovement\" BIGINT, \n",
      "\t\"meansOfControlUsesChildren\" BIGINT, \n",
      "\t\"meansOfControlThreatOfLawEnforcement\" BIGINT, \n",
      "\t\"isForcedLabour\" BIGINT, \n",
      "\t\"isSexualExploit\" BIGINT, \n",
      "\t\"isOtherExploit\" BIGINT, \n",
      "\t\"isAbduction\" BIGINT, \n",
      "\t\"recruiterRelationIntimatePartner\" BIGINT, \n",
      "\t\"recruiterRelationFriend\" BIGINT, \n",
      "\t\"recruiterRelationFamily\" BIGINT, \n",
      "\t\"recruiterRelationOther\" BIGINT\n",
      ")\n",
      "\n",
      "\n",
      "2020-10-04 17:10:50,934 INFO sqlalchemy.engine.base.Engine ()\n",
      "2020-10-04 17:10:50,944 INFO sqlalchemy.engine.base.Engine COMMIT\n",
      "2020-10-04 17:10:50,945 INFO sqlalchemy.engine.base.Engine CREATE INDEX ix_trafficking_data_level_0 ON trafficking_data (level_0)\n",
      "2020-10-04 17:10:50,945 INFO sqlalchemy.engine.base.Engine ()\n",
      "2020-10-04 17:10:50,956 INFO sqlalchemy.engine.base.Engine COMMIT\n",
      "2020-10-04 17:10:50,958 INFO sqlalchemy.engine.base.Engine BEGIN (implicit)\n",
      "2020-10-04 17:10:50,960 INFO sqlalchemy.engine.base.Engine INSERT INTO trafficking_data (level_0, \"index\", \"yearOfRegistration\", \"ageBroad\", gender, \"majorityStatusAtExploit\", \"meansOfControlTakesEarnings\", \"meansOfControlThreats\", \"meansOfControlPsychologicalAbuse\", \"meansOfControlPhysicalAbuse\", \"meansOfControlSexualAbuse\", \"meansOfControlPsychoactiveSubstances\", \"meansOfControlRestrictsMovement\", \"meansOfControlUsesChildren\", \"meansOfControlThreatOfLawEnforcement\", \"isForcedLabour\", \"isSexualExploit\", \"isOtherExploit\", \"isAbduction\", \"recruiterRelationIntimatePartner\", \"recruiterRelationFriend\", \"recruiterRelationFamily\", \"recruiterRelationOther\") VALUES (?, ?, ?, ?, ?, ?, ?, ?, ?, ?, ?, ?, ?, ?, ?, ?, ?, ?, ?, ?, ?, ?, ?)\n",
      "2020-10-04 17:10:50,961 INFO sqlalchemy.engine.base.Engine ((0, 0, 2015, '18--20', 'Female', '-99', 2, 7, 9, 8, 2, 4, 12, 0, 0, 0, 64, 0, 0, 9, 1, 2, 2), (1, 1, 2015, '18--20', 'Female', 'Adult', 2, 1, 3, 4, 0, 3, 5, 0, 0, 0, 9, 0, 0, 4, 1, 0, 0), (2, 2, 2015, '18--20', 'Female', 'Minor', 10, 16, 22, 24, 9, 8, 20, 1, 0, 0, 61, 0, 0, 14, 2, 11, 8), (3, 3, 2015, '21--23', 'Female', '-99', 9, 13, 14, 16, 3, 8, 17, 1, 0, 0, 54, 0, 0, 4, 0, 2, 6), (4, 4, 2015, '21--23', 'Female', 'Adult', 2, 3, 2, 3, 1, 2, 2, 0, 0, 0, 5, 0, 0, 1, 1, 0, 0), (5, 5, 2015, '21--23', 'Female', 'Minor', 5, 8, 14, 10, 5, 11, 11, 2, 0, 0, 37, 0, 0, 12, 3, 2, 4), (6, 6, 2015, '24--26', 'Female', '-99', 5, 8, 14, 5, 0, 4, 5, 0, 0, 0, 39, 0, 0, 11, 1, 2, 1), (7, 7, 2015, '24--26', 'Female', 'Adult', 1, 3, 2, 0, 0, 1, 2, 0, 1, 0, 6, 0, 0, 2, 1, 0, 1)  ... displaying 10 of 86 total bound parameter sets ...  (84, 84, 2018, '9--17', 'Male', '-99', 0, 0, 0, 1, 1, 1, 0, 0, 0, 0, 1, 0, 0, 0, 0, 1, 0), (85, 85, 2018, '9--17', 'Male', 'Minor', 0, 5, 10, 5, 3, 2, 0, 0, 0, 0, 14, 0, 0, 2, 1, 10, 1))\n",
      "2020-10-04 17:10:50,963 INFO sqlalchemy.engine.base.Engine COMMIT\n"
     ]
    }
   ],
   "source": [
    "sqlite_table = \"trafficking_data\"\n",
    "df2.to_sql(sqlite_table, sqlite_connection, if_exists='fail')"
   ]
  },
  {
   "cell_type": "code",
   "execution_count": 19,
   "metadata": {},
   "outputs": [],
   "source": [
    "sqlite_connection.close()"
   ]
  },
  {
   "cell_type": "code",
   "execution_count": 20,
   "metadata": {},
   "outputs": [],
   "source": [
    "import sqlite3\n",
    "import pandas as pd"
   ]
  },
  {
   "cell_type": "code",
   "execution_count": 34,
   "metadata": {},
   "outputs": [],
   "source": [
    "con = sqlite3.connect(\"trafficking2.db\")\n",
    "c = con.cursor()"
   ]
  },
  {
   "cell_type": "code",
   "execution_count": 35,
   "metadata": {},
   "outputs": [
    {
     "data": {
      "text/plain": [
       "<sqlite3.Cursor at 0x242fab4fe30>"
      ]
     },
     "execution_count": 35,
     "metadata": {},
     "output_type": "execute_result"
    }
   ],
   "source": [
    "c.execute(\"SELECT * FROM trafficking_data\")"
   ]
  },
  {
   "cell_type": "code",
   "execution_count": 36,
   "metadata": {},
   "outputs": [
    {
     "name": "stdout",
     "output_type": "stream",
     "text": [
      "[(0, 0, 2015, '18--20', 'Female', '-99', 2, 7, 9, 8, 2, 4, 12, 0, 0, 0, 64, 0, 0, 9, 1, 2, 2), (1, 1, 2015, '18--20', 'Female', 'Adult', 2, 1, 3, 4, 0, 3, 5, 0, 0, 0, 9, 0, 0, 4, 1, 0, 0), (2, 2, 2015, '18--20', 'Female', 'Minor', 10, 16, 22, 24, 9, 8, 20, 1, 0, 0, 61, 0, 0, 14, 2, 11, 8), (3, 3, 2015, '21--23', 'Female', '-99', 9, 13, 14, 16, 3, 8, 17, 1, 0, 0, 54, 0, 0, 4, 0, 2, 6), (4, 4, 2015, '21--23', 'Female', 'Adult', 2, 3, 2, 3, 1, 2, 2, 0, 0, 0, 5, 0, 0, 1, 1, 0, 0)]\n"
     ]
    }
   ],
   "source": [
    "print(c.fetchmany(5))"
   ]
  },
  {
   "cell_type": "code",
   "execution_count": null,
   "metadata": {},
   "outputs": [],
   "source": []
  }
 ],
 "metadata": {
  "kernelspec": {
   "display_name": "Python 3",
   "language": "python",
   "name": "python3"
  },
  "language_info": {
   "codemirror_mode": {
    "name": "ipython",
    "version": 3
   },
   "file_extension": ".py",
   "mimetype": "text/x-python",
   "name": "python",
   "nbconvert_exporter": "python",
   "pygments_lexer": "ipython3",
   "version": "3.7.6"
  }
 },
 "nbformat": 4,
 "nbformat_minor": 4
}
